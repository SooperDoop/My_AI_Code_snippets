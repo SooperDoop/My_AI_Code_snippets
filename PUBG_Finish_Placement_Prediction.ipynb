{
  "nbformat": 4,
  "nbformat_minor": 0,
  "metadata": {
    "colab": {
      "name": "PUBG Finish Placement Prediction.ipynb",
      "version": "0.3.2",
      "provenance": [],
      "collapsed_sections": []
    },
    "kernelspec": {
      "name": "python3",
      "display_name": "Python 3"
    },
    "accelerator": "TPU"
  },
  "cells": [
    {
      "metadata": {
        "id": "vFmt2XbaBJ1l",
        "colab_type": "code",
        "colab": {}
      },
      "cell_type": "code",
      "source": [
        "!pip install -q kaggle"
      ],
      "execution_count": 0,
      "outputs": []
    },
    {
      "metadata": {
        "id": "PVb3V4H9CWxX",
        "colab_type": "code",
        "outputId": "7ec02cac-18de-4a3a-e309-f7ec160f05e7",
        "colab": {
          "base_uri": "https://localhost:8080/",
          "height": 170
        }
      },
      "cell_type": "code",
      "source": [
        "!mkdir -p ~/.kaggle\n",
        "!cp kaggle.json ~/.kaggle/\n",
        "!chmod 600 ~/.kaggle/kaggle.json\n",
        "!kaggle competitions download -c pubg-finish-placement-prediction\n"
      ],
      "execution_count": 0,
      "outputs": [
        {
          "output_type": "stream",
          "text": [
            "Downloading sample_submission_V2.csv.zip to /content\n",
            " 53% 9.00M/16.9M [00:00<00:00, 15.8MB/s]\n",
            "100% 16.9M/16.9M [00:00<00:00, 31.7MB/s]\n",
            "Downloading test_V2.csv.zip to /content\n",
            " 91% 89.0M/98.3M [00:02<00:00, 27.9MB/s]\n",
            "100% 98.3M/98.3M [00:02<00:00, 45.7MB/s]\n",
            "Downloading train_V2.csv.zip to /content\n",
            " 97% 233M/239M [00:04<00:00, 60.2MB/s]\n",
            "100% 239M/239M [00:04<00:00, 59.0MB/s]\n"
          ],
          "name": "stdout"
        }
      ]
    },
    {
      "metadata": {
        "id": "oIjzFCQGDXoc",
        "colab_type": "code",
        "colab": {}
      },
      "cell_type": "code",
      "source": [
        "import zipfile\n",
        "zip_ref = zipfile.ZipFile('sample_submission_V2.csv.zip', 'r')\n",
        "zip_ref1 = zipfile.ZipFile('test_V2.csv.zip', 'r')\n",
        "zip_ref2 = zipfile.ZipFile('train_V2.csv.zip', 'r')\n",
        "zip_ref.extractall()\n",
        "zip_ref1.extractall()\n",
        "zip_ref2.extractall()\n",
        "zip_ref.close()"
      ],
      "execution_count": 0,
      "outputs": []
    },
    {
      "metadata": {
        "id": "mwCuYlIVFIAi",
        "colab_type": "code",
        "colab": {}
      },
      "cell_type": "code",
      "source": [
        "import pandas as pd\n",
        "import numpy as np\n",
        "from matplotlib import pyplot as plt\n",
        "import seaborn as sns\n",
        "from sklearn.preprocessing import Imputer\n",
        "from sklearn.model_selection import train_test_split\n",
        "from sklearn.ensemble import RandomForestRegressor\n",
        "from sklearn.metrics import mean_absolute_error\n",
        "from time import time\n",
        "\n",
        "%matplotlib inline"
      ],
      "execution_count": 0,
      "outputs": []
    },
    {
      "metadata": {
        "id": "W1XwD269Fvrx",
        "colab_type": "code",
        "outputId": "8439c1f6-fd72-4d3d-84de-3449adacc11e",
        "colab": {
          "base_uri": "https://localhost:8080/",
          "height": 180
        }
      },
      "cell_type": "code",
      "source": [
        "train_data = pd.read_csv('train_V2.csv')\n",
        "test_data = pd.read_csv('test_V2.csv')"
      ],
      "execution_count": 0,
      "outputs": [
        {
          "output_type": "error",
          "ename": "NameError",
          "evalue": "ignored",
          "traceback": [
            "\u001b[0;31m---------------------------------------------------------------------------\u001b[0m",
            "\u001b[0;31mNameError\u001b[0m                                 Traceback (most recent call last)",
            "\u001b[0;32m<ipython-input-1-6c1488015df0>\u001b[0m in \u001b[0;36m<module>\u001b[0;34m()\u001b[0m\n\u001b[0;32m----> 1\u001b[0;31m \u001b[0mtrain_data\u001b[0m \u001b[0;34m=\u001b[0m \u001b[0mpd\u001b[0m\u001b[0;34m.\u001b[0m\u001b[0mread_csv\u001b[0m\u001b[0;34m(\u001b[0m\u001b[0;34m'train_V2.csv'\u001b[0m\u001b[0;34m)\u001b[0m\u001b[0;34m\u001b[0m\u001b[0;34m\u001b[0m\u001b[0m\n\u001b[0m\u001b[1;32m      2\u001b[0m \u001b[0mtest_data\u001b[0m \u001b[0;34m=\u001b[0m \u001b[0mpd\u001b[0m\u001b[0;34m.\u001b[0m\u001b[0mread_csv\u001b[0m\u001b[0;34m(\u001b[0m\u001b[0;34m'test_V2.csv'\u001b[0m\u001b[0;34m)\u001b[0m\u001b[0;34m\u001b[0m\u001b[0;34m\u001b[0m\u001b[0m\n",
            "\u001b[0;31mNameError\u001b[0m: name 'pd' is not defined"
          ]
        }
      ]
    },
    {
      "metadata": {
        "id": "zGpbR_tvGQTE",
        "colab_type": "code",
        "outputId": "10cf2194-54a6-4e04-c30a-3a99f87b69a3",
        "colab": {
          "base_uri": "https://localhost:8080/",
          "height": 253
        }
      },
      "cell_type": "code",
      "source": [
        "train_data.drop(['Id', 'groupId', 'matchId'], axis=1, inplace=True)\n",
        "train_data.head()\n",
        "train_data.info()"
      ],
      "execution_count": 0,
      "outputs": [
        {
          "output_type": "execute_result",
          "data": {
            "text/html": [
              "<div>\n",
              "<style scoped>\n",
              "    .dataframe tbody tr th:only-of-type {\n",
              "        vertical-align: middle;\n",
              "    }\n",
              "\n",
              "    .dataframe tbody tr th {\n",
              "        vertical-align: top;\n",
              "    }\n",
              "\n",
              "    .dataframe thead th {\n",
              "        text-align: right;\n",
              "    }\n",
              "</style>\n",
              "<table border=\"1\" class=\"dataframe\">\n",
              "  <thead>\n",
              "    <tr style=\"text-align: right;\">\n",
              "      <th></th>\n",
              "      <th>assists</th>\n",
              "      <th>boosts</th>\n",
              "      <th>damageDealt</th>\n",
              "      <th>DBNOs</th>\n",
              "      <th>headshotKills</th>\n",
              "      <th>heals</th>\n",
              "      <th>killPlace</th>\n",
              "      <th>killPoints</th>\n",
              "      <th>kills</th>\n",
              "      <th>killStreaks</th>\n",
              "      <th>...</th>\n",
              "      <th>revives</th>\n",
              "      <th>rideDistance</th>\n",
              "      <th>roadKills</th>\n",
              "      <th>swimDistance</th>\n",
              "      <th>teamKills</th>\n",
              "      <th>vehicleDestroys</th>\n",
              "      <th>walkDistance</th>\n",
              "      <th>weaponsAcquired</th>\n",
              "      <th>winPoints</th>\n",
              "      <th>winPlacePerc</th>\n",
              "    </tr>\n",
              "  </thead>\n",
              "  <tbody>\n",
              "    <tr>\n",
              "      <th>0</th>\n",
              "      <td>0</td>\n",
              "      <td>0</td>\n",
              "      <td>0.00</td>\n",
              "      <td>0</td>\n",
              "      <td>0</td>\n",
              "      <td>0</td>\n",
              "      <td>60</td>\n",
              "      <td>1241</td>\n",
              "      <td>0</td>\n",
              "      <td>0</td>\n",
              "      <td>...</td>\n",
              "      <td>0</td>\n",
              "      <td>0.0000</td>\n",
              "      <td>0</td>\n",
              "      <td>0.00</td>\n",
              "      <td>0</td>\n",
              "      <td>0</td>\n",
              "      <td>244.80</td>\n",
              "      <td>1</td>\n",
              "      <td>1466</td>\n",
              "      <td>0.4444</td>\n",
              "    </tr>\n",
              "    <tr>\n",
              "      <th>1</th>\n",
              "      <td>0</td>\n",
              "      <td>0</td>\n",
              "      <td>91.47</td>\n",
              "      <td>0</td>\n",
              "      <td>0</td>\n",
              "      <td>0</td>\n",
              "      <td>57</td>\n",
              "      <td>0</td>\n",
              "      <td>0</td>\n",
              "      <td>0</td>\n",
              "      <td>...</td>\n",
              "      <td>0</td>\n",
              "      <td>0.0045</td>\n",
              "      <td>0</td>\n",
              "      <td>11.04</td>\n",
              "      <td>0</td>\n",
              "      <td>0</td>\n",
              "      <td>1434.00</td>\n",
              "      <td>5</td>\n",
              "      <td>0</td>\n",
              "      <td>0.6400</td>\n",
              "    </tr>\n",
              "    <tr>\n",
              "      <th>2</th>\n",
              "      <td>1</td>\n",
              "      <td>0</td>\n",
              "      <td>68.00</td>\n",
              "      <td>0</td>\n",
              "      <td>0</td>\n",
              "      <td>0</td>\n",
              "      <td>47</td>\n",
              "      <td>0</td>\n",
              "      <td>0</td>\n",
              "      <td>0</td>\n",
              "      <td>...</td>\n",
              "      <td>0</td>\n",
              "      <td>0.0000</td>\n",
              "      <td>0</td>\n",
              "      <td>0.00</td>\n",
              "      <td>0</td>\n",
              "      <td>0</td>\n",
              "      <td>161.80</td>\n",
              "      <td>2</td>\n",
              "      <td>0</td>\n",
              "      <td>0.7755</td>\n",
              "    </tr>\n",
              "    <tr>\n",
              "      <th>3</th>\n",
              "      <td>0</td>\n",
              "      <td>0</td>\n",
              "      <td>32.90</td>\n",
              "      <td>0</td>\n",
              "      <td>0</td>\n",
              "      <td>0</td>\n",
              "      <td>75</td>\n",
              "      <td>0</td>\n",
              "      <td>0</td>\n",
              "      <td>0</td>\n",
              "      <td>...</td>\n",
              "      <td>0</td>\n",
              "      <td>0.0000</td>\n",
              "      <td>0</td>\n",
              "      <td>0.00</td>\n",
              "      <td>0</td>\n",
              "      <td>0</td>\n",
              "      <td>202.70</td>\n",
              "      <td>3</td>\n",
              "      <td>0</td>\n",
              "      <td>0.1667</td>\n",
              "    </tr>\n",
              "    <tr>\n",
              "      <th>4</th>\n",
              "      <td>0</td>\n",
              "      <td>0</td>\n",
              "      <td>100.00</td>\n",
              "      <td>0</td>\n",
              "      <td>0</td>\n",
              "      <td>0</td>\n",
              "      <td>45</td>\n",
              "      <td>0</td>\n",
              "      <td>1</td>\n",
              "      <td>1</td>\n",
              "      <td>...</td>\n",
              "      <td>0</td>\n",
              "      <td>0.0000</td>\n",
              "      <td>0</td>\n",
              "      <td>0.00</td>\n",
              "      <td>0</td>\n",
              "      <td>0</td>\n",
              "      <td>49.75</td>\n",
              "      <td>2</td>\n",
              "      <td>0</td>\n",
              "      <td>0.1875</td>\n",
              "    </tr>\n",
              "  </tbody>\n",
              "</table>\n",
              "<p>5 rows × 26 columns</p>\n",
              "</div>"
            ],
            "text/plain": [
              "   assists  boosts  damageDealt  DBNOs  headshotKills  heals  killPlace  \\\n",
              "0        0       0         0.00      0              0      0         60   \n",
              "1        0       0        91.47      0              0      0         57   \n",
              "2        1       0        68.00      0              0      0         47   \n",
              "3        0       0        32.90      0              0      0         75   \n",
              "4        0       0       100.00      0              0      0         45   \n",
              "\n",
              "   killPoints  kills  killStreaks      ...       revives  rideDistance  \\\n",
              "0        1241      0            0      ...             0        0.0000   \n",
              "1           0      0            0      ...             0        0.0045   \n",
              "2           0      0            0      ...             0        0.0000   \n",
              "3           0      0            0      ...             0        0.0000   \n",
              "4           0      1            1      ...             0        0.0000   \n",
              "\n",
              "  roadKills  swimDistance  teamKills  vehicleDestroys  walkDistance  \\\n",
              "0         0          0.00          0                0        244.80   \n",
              "1         0         11.04          0                0       1434.00   \n",
              "2         0          0.00          0                0        161.80   \n",
              "3         0          0.00          0                0        202.70   \n",
              "4         0          0.00          0                0         49.75   \n",
              "\n",
              "   weaponsAcquired  winPoints  winPlacePerc  \n",
              "0                1       1466        0.4444  \n",
              "1                5          0        0.6400  \n",
              "2                2          0        0.7755  \n",
              "3                3          0        0.1667  \n",
              "4                2          0        0.1875  \n",
              "\n",
              "[5 rows x 26 columns]"
            ]
          },
          "metadata": {
            "tags": []
          },
          "execution_count": 4
        }
      ]
    },
    {
      "metadata": {
        "id": "JpB560fBMpVw",
        "colab_type": "code",
        "outputId": "ca81118a-7cbb-40a1-be56-19abd17e0904",
        "colab": {
          "base_uri": "https://localhost:8080/",
          "height": 136
        }
      },
      "cell_type": "code",
      "source": [
        "train_data.columns"
      ],
      "execution_count": 0,
      "outputs": [
        {
          "output_type": "execute_result",
          "data": {
            "text/plain": [
              "Index(['assists', 'boosts', 'damageDealt', 'DBNOs', 'headshotKills', 'heals',\n",
              "       'killPlace', 'killPoints', 'kills', 'killStreaks', 'longestKill',\n",
              "       'matchDuration', 'matchType', 'maxPlace', 'numGroups', 'rankPoints',\n",
              "       'revives', 'rideDistance', 'roadKills', 'swimDistance', 'teamKills',\n",
              "       'vehicleDestroys', 'walkDistance', 'weaponsAcquired', 'winPoints',\n",
              "       'winPlacePerc'],\n",
              "      dtype='object')"
            ]
          },
          "metadata": {
            "tags": []
          },
          "execution_count": 5
        }
      ]
    },
    {
      "metadata": {
        "id": "36-K1H1NWe_n",
        "colab_type": "text"
      },
      "cell_type": "markdown",
      "source": [
        "The **kills** feature seems pretty important, practically, for prediction **winPlacePerc** "
      ]
    },
    {
      "metadata": {
        "id": "XAkqbLB2HFzt",
        "colab_type": "code",
        "outputId": "df80a584-5ad9-4315-e8db-18fb617a7e59",
        "colab": {
          "base_uri": "https://localhost:8080/",
          "height": 405
        }
      },
      "cell_type": "code",
      "source": [
        "train_data[train_data['kills'] > 0].plot.scatter(x='winPlacePerc', y='kills', figsize=(12, 6))~"
      ],
      "execution_count": 0,
      "outputs": [
        {
          "output_type": "execute_result",
          "data": {
            "text/plain": [
              "<matplotlib.axes._subplots.AxesSubplot at 0x7fc5f349f400>"
            ]
          },
          "metadata": {
            "tags": []
          },
          "execution_count": 60
        },
        {
          "output_type": "display_data",
          "data": {
            "image/png": "[encoded data removed]",
            "text/plain": [
              "<matplotlib.figure.Figure at 0x7fc5f34317f0>"
            ]
          },
          "metadata": {
            "tags": []
          }
        }
      ]
    },
    {
      "metadata": {
        "id": "AODZJ1meKIFT",
        "colab_type": "text"
      },
      "cell_type": "markdown",
      "source": [
        "As you can see in the above figure, there is a very moderate increase in the slope, which suggests that **kills** has an alright amount of correlation with **winPlacePerc** but also cannot have a high variance.\n",
        "\n",
        "Let's have a look at the **Heatmap** for more correlation analysis."
      ]
    },
    {
      "metadata": {
        "id": "CUKkbwNdIeol",
        "colab_type": "code",
        "outputId": "466405d6-8d5e-46f5-8746-384d15c4c8d1",
        "colab": {
          "base_uri": "https://localhost:8080/",
          "height": 709
        }
      },
      "cell_type": "code",
      "source": [
        "l = ['winPlacePerc', 'boosts', 'damageDealt', 'heals', 'kills', 'rideDistance', 'roadKills', 'walkDistance', 'weaponsAcquired']\n",
        "figure, ax = plt.subplots(figsize=(12,8))\n",
        "f = train_data.loc[:, l].corr()\n",
        "g = sns.heatmap(f, annot=True, ax=ax)\n",
        "g.set_yticklabels(labels=l[::-1], rotation=0)\n",
        "g.set_xticklabels(labels=l[:], rotation=90)"
      ],
      "execution_count": 0,
      "outputs": [
        {
          "output_type": "execute_result",
          "data": {
            "text/plain": [
              "[Text(0.5,0,'winPlacePerc'),\n",
              " Text(1.5,0,'boosts'),\n",
              " Text(2.5,0,'damageDealt'),\n",
              " Text(3.5,0,'heals'),\n",
              " Text(4.5,0,'kills'),\n",
              " Text(5.5,0,'rideDistance'),\n",
              " Text(6.5,0,'roadKills'),\n",
              " Text(7.5,0,'walkDistance'),\n",
              " Text(8.5,0,'weaponsAcquired')]"
            ]
          },
          "metadata": {
            "tags": []
          },
          "execution_count": 118
        },
        {
          "output_type": "display_data",
          "data": {
            "image/png": "[encoded data removed]",
            "text/plain": [
              "<matplotlib.figure.Figure at 0x7fc600441a20>"
            ]
          },
          "metadata": {
            "tags": []
          }
        }
      ]
    },
    {
      "metadata": {
        "id": "SZL-JO8mRtHS",
        "colab_type": "text"
      },
      "cell_type": "markdown",
      "source": [
        "Seemingly, **walkDistance**, **boosts** and **weaponsAcquired** have the most correlation with **winPlacePerc**. "
      ]
    },
    {
      "metadata": {
        "id": "cu0vDxIXNhnW",
        "colab_type": "code",
        "outputId": "f542b2d1-3038-42a7-8bbd-efcd4d01d65d",
        "colab": {
          "base_uri": "https://localhost:8080/",
          "height": 497
        }
      },
      "cell_type": "code",
      "source": [
        "fig, axarr = plt.subplots(2, 2, figsize=(12, 8))\n",
        "train_data[train_data['walkDistance'] > 0].plot.scatter(x='winPlacePerc', y='walkDistance', ax=axarr[0][0])\n",
        "train_data[train_data['boosts'] > 0].plot.scatter(x='winPlacePerc', y='boosts', ax=axarr[0][1])\n",
        "train_data[train_data['weaponsAcquired'] > 0].plot.scatter(x='winPlacePerc', y='weaponsAcquired', ax=axarr[1][0])\n",
        "train_data[train_data['damageDealt'] > 0].plot.scatter(x='winPlacePerc', y='damageDealt', ax=axarr[1][1])\n",
        "plt.subplots_adjust(hspace=.3)\n",
        "sns.despine()"
      ],
      "execution_count": 0,
      "outputs": [
        {
          "output_type": "display_data",
          "data": {
            "image/png": "[encoded data removed]",
            "text/plain": [
              "<matplotlib.figure.Figure at 0x7fc5f4296c18>"
            ]
          },
          "metadata": {
            "tags": []
          }
        }
      ]
    },
    {
      "metadata": {
        "id": "tlTVY2SNXtU2",
        "colab_type": "text"
      },
      "cell_type": "markdown",
      "source": [
        "# Data preprocessing\n",
        "\n",
        "Removing unnecessary features and filling in missing values"
      ]
    },
    {
      "metadata": {
        "id": "ra2qkZa7aGHG",
        "colab_type": "code",
        "outputId": "bc0abb0c-6c9a-4577-cb06-496a35676215",
        "colab": {
          "base_uri": "https://localhost:8080/",
          "height": 136
        }
      },
      "cell_type": "code",
      "source": [
        "train_data.columns"
      ],
      "execution_count": 0,
      "outputs": [
        {
          "output_type": "execute_result",
          "data": {
            "text/plain": [
              "Index(['assists', 'boosts', 'damageDealt', 'DBNOs', 'headshotKills', 'heals',\n",
              "       'killPlace', 'killPoints', 'kills', 'killStreaks', 'longestKill',\n",
              "       'matchDuration', 'matchType', 'maxPlace', 'numGroups', 'rankPoints',\n",
              "       'revives', 'rideDistance', 'roadKills', 'swimDistance', 'teamKills',\n",
              "       'vehicleDestroys', 'walkDistance', 'weaponsAcquired', 'winPoints',\n",
              "       'winPlacePerc'],\n",
              "      dtype='object')"
            ]
          },
          "metadata": {
            "tags": []
          },
          "execution_count": 6
        }
      ]
    },
    {
      "metadata": {
        "id": "XrU-An8Eag0x",
        "colab_type": "text"
      },
      "cell_type": "markdown",
      "source": [
        "Kaggler ['averagemn'](https://www.kaggle.com/donkeys) pointed out that there is one NaN value in **winPlacePerc**."
      ]
    },
    {
      "metadata": {
        "id": "HGwB-2wva4cP",
        "colab_type": "code",
        "outputId": "ba4067d2-7a15-4d0a-95a9-e8ea84b21e49",
        "colab": {
          "base_uri": "https://localhost:8080/",
          "height": 129
        }
      },
      "cell_type": "code",
      "source": [
        "train_data[train_data['winPlacePerc'].isnull()]"
      ],
      "execution_count": 0,
      "outputs": [
        {
          "output_type": "execute_result",
          "data": {
            "text/html": [
              "<div>\n",
              "<style scoped>\n",
              "    .dataframe tbody tr th:only-of-type {\n",
              "        vertical-align: middle;\n",
              "    }\n",
              "\n",
              "    .dataframe tbody tr th {\n",
              "        vertical-align: top;\n",
              "    }\n",
              "\n",
              "    .dataframe thead th {\n",
              "        text-align: right;\n",
              "    }\n",
              "</style>\n",
              "<table border=\"1\" class=\"dataframe\">\n",
              "  <thead>\n",
              "    <tr style=\"text-align: right;\">\n",
              "      <th></th>\n",
              "      <th>assists</th>\n",
              "      <th>boosts</th>\n",
              "      <th>damageDealt</th>\n",
              "      <th>DBNOs</th>\n",
              "      <th>headshotKills</th>\n",
              "      <th>heals</th>\n",
              "      <th>killPlace</th>\n",
              "      <th>killPoints</th>\n",
              "      <th>kills</th>\n",
              "      <th>killStreaks</th>\n",
              "      <th>...</th>\n",
              "      <th>revives</th>\n",
              "      <th>rideDistance</th>\n",
              "      <th>roadKills</th>\n",
              "      <th>swimDistance</th>\n",
              "      <th>teamKills</th>\n",
              "      <th>vehicleDestroys</th>\n",
              "      <th>walkDistance</th>\n",
              "      <th>weaponsAcquired</th>\n",
              "      <th>winPoints</th>\n",
              "      <th>winPlacePerc</th>\n",
              "    </tr>\n",
              "  </thead>\n",
              "  <tbody>\n",
              "    <tr>\n",
              "      <th>2744604</th>\n",
              "      <td>0</td>\n",
              "      <td>0</td>\n",
              "      <td>0.0</td>\n",
              "      <td>0</td>\n",
              "      <td>0</td>\n",
              "      <td>0</td>\n",
              "      <td>1</td>\n",
              "      <td>0</td>\n",
              "      <td>0</td>\n",
              "      <td>0</td>\n",
              "      <td>...</td>\n",
              "      <td>0</td>\n",
              "      <td>0.0</td>\n",
              "      <td>0</td>\n",
              "      <td>0.0</td>\n",
              "      <td>0</td>\n",
              "      <td>0</td>\n",
              "      <td>0.0</td>\n",
              "      <td>0</td>\n",
              "      <td>0</td>\n",
              "      <td>NaN</td>\n",
              "    </tr>\n",
              "  </tbody>\n",
              "</table>\n",
              "<p>1 rows × 26 columns</p>\n",
              "</div>"
            ],
            "text/plain": [
              "         assists  boosts  damageDealt  DBNOs  headshotKills  heals  killPlace  \\\n",
              "2744604        0       0          0.0      0              0      0          1   \n",
              "\n",
              "         killPoints  kills  killStreaks      ...       revives  rideDistance  \\\n",
              "2744604           0      0            0      ...             0           0.0   \n",
              "\n",
              "        roadKills  swimDistance  teamKills  vehicleDestroys  walkDistance  \\\n",
              "2744604         0           0.0          0                0           0.0   \n",
              "\n",
              "         weaponsAcquired  winPoints  winPlacePerc  \n",
              "2744604                0          0           NaN  \n",
              "\n",
              "[1 rows x 26 columns]"
            ]
          },
          "metadata": {
            "tags": []
          },
          "execution_count": 7
        }
      ]
    },
    {
      "metadata": {
        "id": "e_eSdoeiVpc2",
        "colab_type": "code",
        "colab": {}
      },
      "cell_type": "code",
      "source": [
        "train_data.drop(2744604, inplace=True)"
      ],
      "execution_count": 0,
      "outputs": []
    },
    {
      "metadata": {
        "id": "eAJfz4ZGbPHA",
        "colab_type": "text"
      },
      "cell_type": "markdown",
      "source": [
        "**swimDistance** doesn't make much sense, to me, for predicting **winPlacePerc** as swimming distance would generally be much much less than ride distance or walking distance.\n",
        "\n",
        "But as seen from the figure below, it is pretty useful or maybe that's where everyone's hiding!"
      ]
    },
    {
      "metadata": {
        "id": "ijGM3SY4bOVz",
        "colab_type": "code",
        "outputId": "8bcc5203-a89a-476d-f567-ab7a51525e59",
        "colab": {
          "base_uri": "https://localhost:8080/",
          "height": 389
        }
      },
      "cell_type": "code",
      "source": [
        "figure1, axarr1 = plt.subplots(1, 3, figsize=(14, 6))\n",
        "train_data['swimDistance'].value_counts().sort_index()[1:20].plot.hist(ax=axarr1[0])\n",
        "train_data['rideDistance'].value_counts().sort_index()[1:20].plot.hist(ax=axarr1[1])\n",
        "train_data['walkDistance'].value_counts().sort_index()[1:20].plot.hist(ax=axarr1[2])\n",
        "axarr1[0].set_title('Swim dist')\n",
        "axarr1[1].set_title('Ride dist')\n",
        "axarr1[2].set_title('Walk dist')\n",
        "plt.subplots_adjust(hspace=.3)\n",
        "sns.despine()"
      ],
      "execution_count": 0,
      "outputs": [
        {
          "output_type": "display_data",
          "data": {
            "image/png": "[encoded data removed]",
            "text/plain": [
              "<matplotlib.figure.Figure at 0x7fc5b8b1c908>"
            ]
          },
          "metadata": {
            "tags": []
          }
        }
      ]
    },
    {
      "metadata": {
        "id": "ZdPwMc9gb7az",
        "colab_type": "code",
        "colab": {}
      },
      "cell_type": "code",
      "source": [
        "train_data['totalDistance'] = train_data['swimDistance'] + train_data['rideDistance'] + train_data['walkDistance']\n",
        "train_data.drop(['swimDistance', 'rideDistance', 'walkDistance'], axis=1, inplace=True)"
      ],
      "execution_count": 0,
      "outputs": []
    },
    {
      "metadata": {
        "id": "yp_MCOc0izTx",
        "colab_type": "code",
        "outputId": "39aa3ae7-93fa-4bfb-e8a2-6c22ca2ba1d8",
        "colab": {
          "base_uri": "https://localhost:8080/",
          "height": 102
        }
      },
      "cell_type": "code",
      "source": [
        "train_data['matchType'].value_counts().index"
      ],
      "execution_count": 0,
      "outputs": [
        {
          "output_type": "execute_result",
          "data": {
            "text/plain": [
              "Index(['squad-fpp', 'duo-fpp', 'squad', 'solo-fpp', 'duo', 'solo',\n",
              "       'normal-squad-fpp', 'crashfpp', 'normal-duo-fpp', 'flaretpp',\n",
              "       'normal-solo-fpp', 'flarefpp', 'normal-squad', 'crashtpp',\n",
              "       'normal-solo', 'normal-duo'],\n",
              "      dtype='object')"
            ]
          },
          "metadata": {
            "tags": []
          },
          "execution_count": 10
        }
      ]
    },
    {
      "metadata": {
        "id": "a0mc41LEjrjd",
        "colab_type": "code",
        "colab": {}
      },
      "cell_type": "code",
      "source": [
        "# Creating cat codes of match type\n",
        "\n",
        "train_data['matchType'] = train_data['matchType'].astype('category')\n",
        "train_data['matchType'] = train_data['matchType'].cat.codes"
      ],
      "execution_count": 0,
      "outputs": []
    },
    {
      "metadata": {
        "id": "wDiQol8am6MT",
        "colab_type": "code",
        "colab": {}
      },
      "cell_type": "code",
      "source": [
        "# Combining boosts and heals as health\n",
        "\n",
        "train_data['health'] = train_data['boosts'] + train_data['heals']\n",
        "train_data.drop(['boosts', 'heals'], axis=1, inplace=True)"
      ],
      "execution_count": 0,
      "outputs": []
    },
    {
      "metadata": {
        "id": "Is8C77pXoLKL",
        "colab_type": "code",
        "outputId": "e272fd9c-a688-490a-d8bb-c3e01ca241fb",
        "colab": {
          "base_uri": "https://localhost:8080/",
          "height": 253
        }
      },
      "cell_type": "code",
      "source": [
        "train_data.head()"
      ],
      "execution_count": 0,
      "outputs": [
        {
          "output_type": "execute_result",
          "data": {
            "text/html": [
              "<div>\n",
              "<style scoped>\n",
              "    .dataframe tbody tr th:only-of-type {\n",
              "        vertical-align: middle;\n",
              "    }\n",
              "\n",
              "    .dataframe tbody tr th {\n",
              "        vertical-align: top;\n",
              "    }\n",
              "\n",
              "    .dataframe thead th {\n",
              "        text-align: right;\n",
              "    }\n",
              "</style>\n",
              "<table border=\"1\" class=\"dataframe\">\n",
              "  <thead>\n",
              "    <tr style=\"text-align: right;\">\n",
              "      <th></th>\n",
              "      <th>assists</th>\n",
              "      <th>damageDealt</th>\n",
              "      <th>DBNOs</th>\n",
              "      <th>headshotKills</th>\n",
              "      <th>killPlace</th>\n",
              "      <th>killPoints</th>\n",
              "      <th>kills</th>\n",
              "      <th>killStreaks</th>\n",
              "      <th>longestKill</th>\n",
              "      <th>matchDuration</th>\n",
              "      <th>...</th>\n",
              "      <th>rankPoints</th>\n",
              "      <th>revives</th>\n",
              "      <th>roadKills</th>\n",
              "      <th>teamKills</th>\n",
              "      <th>vehicleDestroys</th>\n",
              "      <th>weaponsAcquired</th>\n",
              "      <th>winPoints</th>\n",
              "      <th>winPlacePerc</th>\n",
              "      <th>totalDistance</th>\n",
              "      <th>health</th>\n",
              "    </tr>\n",
              "  </thead>\n",
              "  <tbody>\n",
              "    <tr>\n",
              "      <th>0</th>\n",
              "      <td>0</td>\n",
              "      <td>0.00</td>\n",
              "      <td>0</td>\n",
              "      <td>0</td>\n",
              "      <td>60</td>\n",
              "      <td>1241</td>\n",
              "      <td>0</td>\n",
              "      <td>0</td>\n",
              "      <td>0.00</td>\n",
              "      <td>1306</td>\n",
              "      <td>...</td>\n",
              "      <td>-1</td>\n",
              "      <td>0</td>\n",
              "      <td>0</td>\n",
              "      <td>0</td>\n",
              "      <td>0</td>\n",
              "      <td>1</td>\n",
              "      <td>1466</td>\n",
              "      <td>0.4444</td>\n",
              "      <td>244.8000</td>\n",
              "      <td>0</td>\n",
              "    </tr>\n",
              "    <tr>\n",
              "      <th>1</th>\n",
              "      <td>0</td>\n",
              "      <td>91.47</td>\n",
              "      <td>0</td>\n",
              "      <td>0</td>\n",
              "      <td>57</td>\n",
              "      <td>0</td>\n",
              "      <td>0</td>\n",
              "      <td>0</td>\n",
              "      <td>0.00</td>\n",
              "      <td>1777</td>\n",
              "      <td>...</td>\n",
              "      <td>1484</td>\n",
              "      <td>0</td>\n",
              "      <td>0</td>\n",
              "      <td>0</td>\n",
              "      <td>0</td>\n",
              "      <td>5</td>\n",
              "      <td>0</td>\n",
              "      <td>0.6400</td>\n",
              "      <td>1445.0445</td>\n",
              "      <td>0</td>\n",
              "    </tr>\n",
              "    <tr>\n",
              "      <th>2</th>\n",
              "      <td>1</td>\n",
              "      <td>68.00</td>\n",
              "      <td>0</td>\n",
              "      <td>0</td>\n",
              "      <td>47</td>\n",
              "      <td>0</td>\n",
              "      <td>0</td>\n",
              "      <td>0</td>\n",
              "      <td>0.00</td>\n",
              "      <td>1318</td>\n",
              "      <td>...</td>\n",
              "      <td>1491</td>\n",
              "      <td>0</td>\n",
              "      <td>0</td>\n",
              "      <td>0</td>\n",
              "      <td>0</td>\n",
              "      <td>2</td>\n",
              "      <td>0</td>\n",
              "      <td>0.7755</td>\n",
              "      <td>161.8000</td>\n",
              "      <td>0</td>\n",
              "    </tr>\n",
              "    <tr>\n",
              "      <th>3</th>\n",
              "      <td>0</td>\n",
              "      <td>32.90</td>\n",
              "      <td>0</td>\n",
              "      <td>0</td>\n",
              "      <td>75</td>\n",
              "      <td>0</td>\n",
              "      <td>0</td>\n",
              "      <td>0</td>\n",
              "      <td>0.00</td>\n",
              "      <td>1436</td>\n",
              "      <td>...</td>\n",
              "      <td>1408</td>\n",
              "      <td>0</td>\n",
              "      <td>0</td>\n",
              "      <td>0</td>\n",
              "      <td>0</td>\n",
              "      <td>3</td>\n",
              "      <td>0</td>\n",
              "      <td>0.1667</td>\n",
              "      <td>202.7000</td>\n",
              "      <td>0</td>\n",
              "    </tr>\n",
              "    <tr>\n",
              "      <th>4</th>\n",
              "      <td>0</td>\n",
              "      <td>100.00</td>\n",
              "      <td>0</td>\n",
              "      <td>0</td>\n",
              "      <td>45</td>\n",
              "      <td>0</td>\n",
              "      <td>1</td>\n",
              "      <td>1</td>\n",
              "      <td>58.53</td>\n",
              "      <td>1424</td>\n",
              "      <td>...</td>\n",
              "      <td>1560</td>\n",
              "      <td>0</td>\n",
              "      <td>0</td>\n",
              "      <td>0</td>\n",
              "      <td>0</td>\n",
              "      <td>2</td>\n",
              "      <td>0</td>\n",
              "      <td>0.1875</td>\n",
              "      <td>49.7500</td>\n",
              "      <td>0</td>\n",
              "    </tr>\n",
              "  </tbody>\n",
              "</table>\n",
              "<p>5 rows × 23 columns</p>\n",
              "</div>"
            ],
            "text/plain": [
              "   assists  damageDealt  DBNOs  headshotKills  killPlace  killPoints  kills  \\\n",
              "0        0         0.00      0              0         60        1241      0   \n",
              "1        0        91.47      0              0         57           0      0   \n",
              "2        1        68.00      0              0         47           0      0   \n",
              "3        0        32.90      0              0         75           0      0   \n",
              "4        0       100.00      0              0         45           0      1   \n",
              "\n",
              "   killStreaks  longestKill  matchDuration   ...    rankPoints  revives  \\\n",
              "0            0         0.00           1306   ...            -1        0   \n",
              "1            0         0.00           1777   ...          1484        0   \n",
              "2            0         0.00           1318   ...          1491        0   \n",
              "3            0         0.00           1436   ...          1408        0   \n",
              "4            1        58.53           1424   ...          1560        0   \n",
              "\n",
              "   roadKills  teamKills  vehicleDestroys  weaponsAcquired  winPoints  \\\n",
              "0          0          0                0                1       1466   \n",
              "1          0          0                0                5          0   \n",
              "2          0          0                0                2          0   \n",
              "3          0          0                0                3          0   \n",
              "4          0          0                0                2          0   \n",
              "\n",
              "   winPlacePerc  totalDistance  health  \n",
              "0        0.4444       244.8000       0  \n",
              "1        0.6400      1445.0445       0  \n",
              "2        0.7755       161.8000       0  \n",
              "3        0.1667       202.7000       0  \n",
              "4        0.1875        49.7500       0  \n",
              "\n",
              "[5 rows x 23 columns]"
            ]
          },
          "metadata": {
            "tags": []
          },
          "execution_count": 13
        }
      ]
    },
    {
      "metadata": {
        "id": "jDx9FTg-6Cd0",
        "colab_type": "text"
      },
      "cell_type": "markdown",
      "source": [
        "As seen below, most of the kill types are not that varied on their own. So we'll just add those to **kills**"
      ]
    },
    {
      "metadata": {
        "id": "Nn_33BZRoUhG",
        "colab_type": "code",
        "outputId": "4d9a8fc0-b7dd-459e-e0fc-ec81192ffc2d",
        "colab": {
          "base_uri": "https://localhost:8080/",
          "height": 390
        }
      },
      "cell_type": "code",
      "source": [
        "figure2, axarr2 = plt.subplots(1, 3, figsize=(14, 6))\n",
        "train_data['headshotKills'].value_counts().sort_index().head(10)[1:].plot.bar(ax=axarr2[0])\n",
        "train_data['roadKills'].value_counts().sort_index().head(10)[1:].plot.bar(ax=axarr2[1])\n",
        "train_data['teamKills'].value_counts().sort_index().head(10)[1:].plot.bar(ax=axarr2[2])\n",
        "axarr2[0].set_title('Headshot kills')\n",
        "axarr2[1].set_title('Road kills')\n",
        "axarr2[2].set_title('Team kills')\n",
        "plt.subplots_adjust(hspace=.3)\n",
        "sns.despine()"
      ],
      "execution_count": 0,
      "outputs": [
        {
          "output_type": "display_data",
          "data": {
            "image/png": "[encoded data removed]",
            "text/plain": [
              "<matplotlib.figure.Figure at 0x7f678f7996d8>"
            ]
          },
          "metadata": {
            "tags": []
          }
        }
      ]
    },
    {
      "metadata": {
        "id": "fxj_Jq_43MY1",
        "colab_type": "code",
        "colab": {}
      },
      "cell_type": "code",
      "source": [
        "train_data['kills'] += train_data['headshotKills'] + train_data['roadKills'] + train_data['teamKills']\n",
        "train_data.drop(['headshotKills', 'roadKills', 'teamKills'], axis=1, inplace=True)"
      ],
      "execution_count": 0,
      "outputs": []
    },
    {
      "metadata": {
        "id": "0m6TSjdc7poF",
        "colab_type": "code",
        "outputId": "e8e409d3-d4e9-45a5-cd5a-b9d3610987b6",
        "colab": {
          "base_uri": "https://localhost:8080/",
          "height": 224
        }
      },
      "cell_type": "code",
      "source": [
        "train_data.head()"
      ],
      "execution_count": 0,
      "outputs": [
        {
          "output_type": "execute_result",
          "data": {
            "text/html": [
              "<div>\n",
              "<style scoped>\n",
              "    .dataframe tbody tr th:only-of-type {\n",
              "        vertical-align: middle;\n",
              "    }\n",
              "\n",
              "    .dataframe tbody tr th {\n",
              "        vertical-align: top;\n",
              "    }\n",
              "\n",
              "    .dataframe thead th {\n",
              "        text-align: right;\n",
              "    }\n",
              "</style>\n",
              "<table border=\"1\" class=\"dataframe\">\n",
              "  <thead>\n",
              "    <tr style=\"text-align: right;\">\n",
              "      <th></th>\n",
              "      <th>assists</th>\n",
              "      <th>damageDealt</th>\n",
              "      <th>DBNOs</th>\n",
              "      <th>killPlace</th>\n",
              "      <th>killPoints</th>\n",
              "      <th>kills</th>\n",
              "      <th>killStreaks</th>\n",
              "      <th>longestKill</th>\n",
              "      <th>matchDuration</th>\n",
              "      <th>matchType</th>\n",
              "      <th>maxPlace</th>\n",
              "      <th>numGroups</th>\n",
              "      <th>rankPoints</th>\n",
              "      <th>revives</th>\n",
              "      <th>vehicleDestroys</th>\n",
              "      <th>weaponsAcquired</th>\n",
              "      <th>winPoints</th>\n",
              "      <th>winPlacePerc</th>\n",
              "      <th>totalDistance</th>\n",
              "      <th>health</th>\n",
              "    </tr>\n",
              "  </thead>\n",
              "  <tbody>\n",
              "    <tr>\n",
              "      <th>0</th>\n",
              "      <td>0</td>\n",
              "      <td>0.00</td>\n",
              "      <td>0</td>\n",
              "      <td>60</td>\n",
              "      <td>1241</td>\n",
              "      <td>0</td>\n",
              "      <td>0</td>\n",
              "      <td>0.00</td>\n",
              "      <td>1306</td>\n",
              "      <td>15</td>\n",
              "      <td>28</td>\n",
              "      <td>26</td>\n",
              "      <td>-1</td>\n",
              "      <td>0</td>\n",
              "      <td>0</td>\n",
              "      <td>1</td>\n",
              "      <td>1466</td>\n",
              "      <td>0.4444</td>\n",
              "      <td>244.8000</td>\n",
              "      <td>0</td>\n",
              "    </tr>\n",
              "    <tr>\n",
              "      <th>1</th>\n",
              "      <td>0</td>\n",
              "      <td>91.47</td>\n",
              "      <td>0</td>\n",
              "      <td>57</td>\n",
              "      <td>0</td>\n",
              "      <td>0</td>\n",
              "      <td>0</td>\n",
              "      <td>0.00</td>\n",
              "      <td>1777</td>\n",
              "      <td>15</td>\n",
              "      <td>26</td>\n",
              "      <td>25</td>\n",
              "      <td>1484</td>\n",
              "      <td>0</td>\n",
              "      <td>0</td>\n",
              "      <td>5</td>\n",
              "      <td>0</td>\n",
              "      <td>0.6400</td>\n",
              "      <td>1445.0445</td>\n",
              "      <td>0</td>\n",
              "    </tr>\n",
              "    <tr>\n",
              "      <th>2</th>\n",
              "      <td>1</td>\n",
              "      <td>68.00</td>\n",
              "      <td>0</td>\n",
              "      <td>47</td>\n",
              "      <td>0</td>\n",
              "      <td>0</td>\n",
              "      <td>0</td>\n",
              "      <td>0.00</td>\n",
              "      <td>1318</td>\n",
              "      <td>2</td>\n",
              "      <td>50</td>\n",
              "      <td>47</td>\n",
              "      <td>1491</td>\n",
              "      <td>0</td>\n",
              "      <td>0</td>\n",
              "      <td>2</td>\n",
              "      <td>0</td>\n",
              "      <td>0.7755</td>\n",
              "      <td>161.8000</td>\n",
              "      <td>0</td>\n",
              "    </tr>\n",
              "    <tr>\n",
              "      <th>3</th>\n",
              "      <td>0</td>\n",
              "      <td>32.90</td>\n",
              "      <td>0</td>\n",
              "      <td>75</td>\n",
              "      <td>0</td>\n",
              "      <td>0</td>\n",
              "      <td>0</td>\n",
              "      <td>0.00</td>\n",
              "      <td>1436</td>\n",
              "      <td>15</td>\n",
              "      <td>31</td>\n",
              "      <td>30</td>\n",
              "      <td>1408</td>\n",
              "      <td>0</td>\n",
              "      <td>0</td>\n",
              "      <td>3</td>\n",
              "      <td>0</td>\n",
              "      <td>0.1667</td>\n",
              "      <td>202.7000</td>\n",
              "      <td>0</td>\n",
              "    </tr>\n",
              "    <tr>\n",
              "      <th>4</th>\n",
              "      <td>0</td>\n",
              "      <td>100.00</td>\n",
              "      <td>0</td>\n",
              "      <td>45</td>\n",
              "      <td>0</td>\n",
              "      <td>1</td>\n",
              "      <td>1</td>\n",
              "      <td>58.53</td>\n",
              "      <td>1424</td>\n",
              "      <td>13</td>\n",
              "      <td>97</td>\n",
              "      <td>95</td>\n",
              "      <td>1560</td>\n",
              "      <td>0</td>\n",
              "      <td>0</td>\n",
              "      <td>2</td>\n",
              "      <td>0</td>\n",
              "      <td>0.1875</td>\n",
              "      <td>49.7500</td>\n",
              "      <td>0</td>\n",
              "    </tr>\n",
              "  </tbody>\n",
              "</table>\n",
              "</div>"
            ],
            "text/plain": [
              "   assists  damageDealt  DBNOs  killPlace  killPoints  kills  killStreaks  \\\n",
              "0        0         0.00      0         60        1241      0            0   \n",
              "1        0        91.47      0         57           0      0            0   \n",
              "2        1        68.00      0         47           0      0            0   \n",
              "3        0        32.90      0         75           0      0            0   \n",
              "4        0       100.00      0         45           0      1            1   \n",
              "\n",
              "   longestKill  matchDuration  matchType  maxPlace  numGroups  rankPoints  \\\n",
              "0         0.00           1306         15        28         26          -1   \n",
              "1         0.00           1777         15        26         25        1484   \n",
              "2         0.00           1318          2        50         47        1491   \n",
              "3         0.00           1436         15        31         30        1408   \n",
              "4        58.53           1424         13        97         95        1560   \n",
              "\n",
              "   revives  vehicleDestroys  weaponsAcquired  winPoints  winPlacePerc  \\\n",
              "0        0                0                1       1466        0.4444   \n",
              "1        0                0                5          0        0.6400   \n",
              "2        0                0                2          0        0.7755   \n",
              "3        0                0                3          0        0.1667   \n",
              "4        0                0                2          0        0.1875   \n",
              "\n",
              "   totalDistance  health  \n",
              "0       244.8000       0  \n",
              "1      1445.0445       0  \n",
              "2       161.8000       0  \n",
              "3       202.7000       0  \n",
              "4        49.7500       0  "
            ]
          },
          "metadata": {
            "tags": []
          },
          "execution_count": 15
        }
      ]
    },
    {
      "metadata": {
        "id": "Kei7wJO286hk",
        "colab_type": "text"
      },
      "cell_type": "markdown",
      "source": [
        "# Preprocessing train data"
      ]
    },
    {
      "metadata": {
        "id": "jLdR_fTN7rCu",
        "colab_type": "code",
        "colab": {}
      },
      "cell_type": "code",
      "source": [
        "test_data.drop(['Id', 'groupId', 'matchId'], axis=1, inplace=True)"
      ],
      "execution_count": 0,
      "outputs": []
    },
    {
      "metadata": {
        "id": "_n7BbYuv9G3x",
        "colab_type": "code",
        "colab": {}
      },
      "cell_type": "code",
      "source": [
        "test_data['totalDistance'] = test_data['swimDistance'] + test_data['rideDistance'] + test_data['walkDistance']\n",
        "test_data.drop(['swimDistance', 'rideDistance', 'walkDistance'], axis=1, inplace=True)"
      ],
      "execution_count": 0,
      "outputs": []
    },
    {
      "metadata": {
        "id": "bNUWbMrH9QJB",
        "colab_type": "code",
        "colab": {}
      },
      "cell_type": "code",
      "source": [
        "test_data['matchType'] = test_data['matchType'].astype('category')\n",
        "test_data['matchType'] = test_data['matchType'].cat.codes"
      ],
      "execution_count": 0,
      "outputs": []
    },
    {
      "metadata": {
        "id": "wJ6s4_uC9siT",
        "colab_type": "code",
        "colab": {}
      },
      "cell_type": "code",
      "source": [
        "test_data['health'] = test_data['boosts'] + test_data['heals']\n",
        "test_data.drop(['boosts', 'heals'], axis=1, inplace=True)"
      ],
      "execution_count": 0,
      "outputs": []
    },
    {
      "metadata": {
        "id": "8qRkWpDk9y5S",
        "colab_type": "code",
        "colab": {}
      },
      "cell_type": "code",
      "source": [
        "test_data['kills'] += test_data['headshotKills'] + test_data['roadKills'] + test_data['teamKills']\n",
        "test_data.drop(['headshotKills', 'roadKills', 'teamKills'], axis=1, inplace=True)"
      ],
      "execution_count": 0,
      "outputs": []
    },
    {
      "metadata": {
        "id": "iDEQqOgS97oK",
        "colab_type": "code",
        "outputId": "cf724433-7c77-4686-efb9-5be995212bf1",
        "colab": {
          "base_uri": "https://localhost:8080/",
          "height": 102
        }
      },
      "cell_type": "code",
      "source": [
        "test_data.columns"
      ],
      "execution_count": 0,
      "outputs": [
        {
          "output_type": "execute_result",
          "data": {
            "text/plain": [
              "Index(['assists', 'damageDealt', 'DBNOs', 'killPlace', 'killPoints', 'kills',\n",
              "       'killStreaks', 'longestKill', 'matchDuration', 'matchType', 'maxPlace',\n",
              "       'numGroups', 'rankPoints', 'revives', 'vehicleDestroys',\n",
              "       'weaponsAcquired', 'winPoints', 'totalDistance', 'health'],\n",
              "      dtype='object')"
            ]
          },
          "metadata": {
            "tags": []
          },
          "execution_count": 21
        }
      ]
    },
    {
      "metadata": {
        "id": "U4FGZ0h3-9VG",
        "colab_type": "text"
      },
      "cell_type": "markdown",
      "source": [
        "# Preparing data for ML model"
      ]
    },
    {
      "metadata": {
        "id": "fx21AZiM-g4G",
        "colab_type": "code",
        "outputId": "1a79e961-b623-46b8-e0c9-b9b41eedbe44",
        "colab": {
          "base_uri": "https://localhost:8080/",
          "height": 224
        }
      },
      "cell_type": "code",
      "source": [
        "# Mean\n",
        "\n",
        "fill_NaN = Imputer(missing_values=np.nan, strategy='mean', axis=1)\n",
        "train_data_mu = pd.DataFrame(fill_NaN.fit_transform(train_data))\n",
        "train_data_mu.columns = train_data.columns\n",
        "train_data_mu.index = train_data.index\n",
        "train_data_mu.head()"
      ],
      "execution_count": 0,
      "outputs": [
        {
          "output_type": "execute_result",
          "data": {
            "text/html": [
              "<div>\n",
              "<style scoped>\n",
              "    .dataframe tbody tr th:only-of-type {\n",
              "        vertical-align: middle;\n",
              "    }\n",
              "\n",
              "    .dataframe tbody tr th {\n",
              "        vertical-align: top;\n",
              "    }\n",
              "\n",
              "    .dataframe thead th {\n",
              "        text-align: right;\n",
              "    }\n",
              "</style>\n",
              "<table border=\"1\" class=\"dataframe\">\n",
              "  <thead>\n",
              "    <tr style=\"text-align: right;\">\n",
              "      <th></th>\n",
              "      <th>assists</th>\n",
              "      <th>damageDealt</th>\n",
              "      <th>DBNOs</th>\n",
              "      <th>killPlace</th>\n",
              "      <th>killPoints</th>\n",
              "      <th>kills</th>\n",
              "      <th>killStreaks</th>\n",
              "      <th>longestKill</th>\n",
              "      <th>matchDuration</th>\n",
              "      <th>matchType</th>\n",
              "      <th>maxPlace</th>\n",
              "      <th>numGroups</th>\n",
              "      <th>rankPoints</th>\n",
              "      <th>revives</th>\n",
              "      <th>vehicleDestroys</th>\n",
              "      <th>weaponsAcquired</th>\n",
              "      <th>winPoints</th>\n",
              "      <th>winPlacePerc</th>\n",
              "      <th>totalDistance</th>\n",
              "      <th>health</th>\n",
              "    </tr>\n",
              "  </thead>\n",
              "  <tbody>\n",
              "    <tr>\n",
              "      <th>0</th>\n",
              "      <td>0.0</td>\n",
              "      <td>0.00</td>\n",
              "      <td>0.0</td>\n",
              "      <td>60.0</td>\n",
              "      <td>1241.0</td>\n",
              "      <td>0.0</td>\n",
              "      <td>0.0</td>\n",
              "      <td>0.00</td>\n",
              "      <td>1306.0</td>\n",
              "      <td>15.0</td>\n",
              "      <td>28.0</td>\n",
              "      <td>26.0</td>\n",
              "      <td>-1.0</td>\n",
              "      <td>0.0</td>\n",
              "      <td>0.0</td>\n",
              "      <td>1.0</td>\n",
              "      <td>1466.0</td>\n",
              "      <td>0.4444</td>\n",
              "      <td>244.8000</td>\n",
              "      <td>0.0</td>\n",
              "    </tr>\n",
              "    <tr>\n",
              "      <th>1</th>\n",
              "      <td>0.0</td>\n",
              "      <td>91.47</td>\n",
              "      <td>0.0</td>\n",
              "      <td>57.0</td>\n",
              "      <td>0.0</td>\n",
              "      <td>0.0</td>\n",
              "      <td>0.0</td>\n",
              "      <td>0.00</td>\n",
              "      <td>1777.0</td>\n",
              "      <td>15.0</td>\n",
              "      <td>26.0</td>\n",
              "      <td>25.0</td>\n",
              "      <td>1484.0</td>\n",
              "      <td>0.0</td>\n",
              "      <td>0.0</td>\n",
              "      <td>5.0</td>\n",
              "      <td>0.0</td>\n",
              "      <td>0.6400</td>\n",
              "      <td>1445.0445</td>\n",
              "      <td>0.0</td>\n",
              "    </tr>\n",
              "    <tr>\n",
              "      <th>2</th>\n",
              "      <td>1.0</td>\n",
              "      <td>68.00</td>\n",
              "      <td>0.0</td>\n",
              "      <td>47.0</td>\n",
              "      <td>0.0</td>\n",
              "      <td>0.0</td>\n",
              "      <td>0.0</td>\n",
              "      <td>0.00</td>\n",
              "      <td>1318.0</td>\n",
              "      <td>2.0</td>\n",
              "      <td>50.0</td>\n",
              "      <td>47.0</td>\n",
              "      <td>1491.0</td>\n",
              "      <td>0.0</td>\n",
              "      <td>0.0</td>\n",
              "      <td>2.0</td>\n",
              "      <td>0.0</td>\n",
              "      <td>0.7755</td>\n",
              "      <td>161.8000</td>\n",
              "      <td>0.0</td>\n",
              "    </tr>\n",
              "    <tr>\n",
              "      <th>3</th>\n",
              "      <td>0.0</td>\n",
              "      <td>32.90</td>\n",
              "      <td>0.0</td>\n",
              "      <td>75.0</td>\n",
              "      <td>0.0</td>\n",
              "      <td>0.0</td>\n",
              "      <td>0.0</td>\n",
              "      <td>0.00</td>\n",
              "      <td>1436.0</td>\n",
              "      <td>15.0</td>\n",
              "      <td>31.0</td>\n",
              "      <td>30.0</td>\n",
              "      <td>1408.0</td>\n",
              "      <td>0.0</td>\n",
              "      <td>0.0</td>\n",
              "      <td>3.0</td>\n",
              "      <td>0.0</td>\n",
              "      <td>0.1667</td>\n",
              "      <td>202.7000</td>\n",
              "      <td>0.0</td>\n",
              "    </tr>\n",
              "    <tr>\n",
              "      <th>4</th>\n",
              "      <td>0.0</td>\n",
              "      <td>100.00</td>\n",
              "      <td>0.0</td>\n",
              "      <td>45.0</td>\n",
              "      <td>0.0</td>\n",
              "      <td>1.0</td>\n",
              "      <td>1.0</td>\n",
              "      <td>58.53</td>\n",
              "      <td>1424.0</td>\n",
              "      <td>13.0</td>\n",
              "      <td>97.0</td>\n",
              "      <td>95.0</td>\n",
              "      <td>1560.0</td>\n",
              "      <td>0.0</td>\n",
              "      <td>0.0</td>\n",
              "      <td>2.0</td>\n",
              "      <td>0.0</td>\n",
              "      <td>0.1875</td>\n",
              "      <td>49.7500</td>\n",
              "      <td>0.0</td>\n",
              "    </tr>\n",
              "  </tbody>\n",
              "</table>\n",
              "</div>"
            ],
            "text/plain": [
              "   assists  damageDealt  DBNOs  killPlace  killPoints  kills  killStreaks  \\\n",
              "0      0.0         0.00    0.0       60.0      1241.0    0.0          0.0   \n",
              "1      0.0        91.47    0.0       57.0         0.0    0.0          0.0   \n",
              "2      1.0        68.00    0.0       47.0         0.0    0.0          0.0   \n",
              "3      0.0        32.90    0.0       75.0         0.0    0.0          0.0   \n",
              "4      0.0       100.00    0.0       45.0         0.0    1.0          1.0   \n",
              "\n",
              "   longestKill  matchDuration  matchType  maxPlace  numGroups  rankPoints  \\\n",
              "0         0.00         1306.0       15.0      28.0       26.0        -1.0   \n",
              "1         0.00         1777.0       15.0      26.0       25.0      1484.0   \n",
              "2         0.00         1318.0        2.0      50.0       47.0      1491.0   \n",
              "3         0.00         1436.0       15.0      31.0       30.0      1408.0   \n",
              "4        58.53         1424.0       13.0      97.0       95.0      1560.0   \n",
              "\n",
              "   revives  vehicleDestroys  weaponsAcquired  winPoints  winPlacePerc  \\\n",
              "0      0.0              0.0              1.0     1466.0        0.4444   \n",
              "1      0.0              0.0              5.0        0.0        0.6400   \n",
              "2      0.0              0.0              2.0        0.0        0.7755   \n",
              "3      0.0              0.0              3.0        0.0        0.1667   \n",
              "4      0.0              0.0              2.0        0.0        0.1875   \n",
              "\n",
              "   totalDistance  health  \n",
              "0       244.8000     0.0  \n",
              "1      1445.0445     0.0  \n",
              "2       161.8000     0.0  \n",
              "3       202.7000     0.0  \n",
              "4        49.7500     0.0  "
            ]
          },
          "metadata": {
            "tags": []
          },
          "execution_count": 22
        }
      ]
    },
    {
      "metadata": {
        "id": "36gzJ9Rd_ivf",
        "colab_type": "code",
        "outputId": "3044dbd8-05bc-47c3-9a52-6f9aadc67ad3",
        "colab": {
          "base_uri": "https://localhost:8080/",
          "height": 224
        }
      },
      "cell_type": "code",
      "source": [
        "# Median\n",
        "\n",
        "fill_NaN_1 = Imputer(missing_values=np.nan, strategy='median', axis=1)\n",
        "train_data_med = pd.DataFrame(fill_NaN_1.fit_transform(train_data))\n",
        "train_data_med.columns = train_data.columns\n",
        "train_data_med.index = train_data.index\n",
        "train_data_med.head()"
      ],
      "execution_count": 0,
      "outputs": [
        {
          "output_type": "execute_result",
          "data": {
            "text/html": [
              "<div>\n",
              "<style scoped>\n",
              "    .dataframe tbody tr th:only-of-type {\n",
              "        vertical-align: middle;\n",
              "    }\n",
              "\n",
              "    .dataframe tbody tr th {\n",
              "        vertical-align: top;\n",
              "    }\n",
              "\n",
              "    .dataframe thead th {\n",
              "        text-align: right;\n",
              "    }\n",
              "</style>\n",
              "<table border=\"1\" class=\"dataframe\">\n",
              "  <thead>\n",
              "    <tr style=\"text-align: right;\">\n",
              "      <th></th>\n",
              "      <th>assists</th>\n",
              "      <th>damageDealt</th>\n",
              "      <th>DBNOs</th>\n",
              "      <th>killPlace</th>\n",
              "      <th>killPoints</th>\n",
              "      <th>kills</th>\n",
              "      <th>killStreaks</th>\n",
              "      <th>longestKill</th>\n",
              "      <th>matchDuration</th>\n",
              "      <th>matchType</th>\n",
              "      <th>maxPlace</th>\n",
              "      <th>numGroups</th>\n",
              "      <th>rankPoints</th>\n",
              "      <th>revives</th>\n",
              "      <th>vehicleDestroys</th>\n",
              "      <th>weaponsAcquired</th>\n",
              "      <th>winPoints</th>\n",
              "      <th>winPlacePerc</th>\n",
              "      <th>totalDistance</th>\n",
              "      <th>health</th>\n",
              "    </tr>\n",
              "  </thead>\n",
              "  <tbody>\n",
              "    <tr>\n",
              "      <th>0</th>\n",
              "      <td>0.0</td>\n",
              "      <td>0.00</td>\n",
              "      <td>0.0</td>\n",
              "      <td>60.0</td>\n",
              "      <td>1241.0</td>\n",
              "      <td>0.0</td>\n",
              "      <td>0.0</td>\n",
              "      <td>0.00</td>\n",
              "      <td>1306.0</td>\n",
              "      <td>15.0</td>\n",
              "      <td>28.0</td>\n",
              "      <td>26.0</td>\n",
              "      <td>-1.0</td>\n",
              "      <td>0.0</td>\n",
              "      <td>0.0</td>\n",
              "      <td>1.0</td>\n",
              "      <td>1466.0</td>\n",
              "      <td>0.4444</td>\n",
              "      <td>244.8000</td>\n",
              "      <td>0.0</td>\n",
              "    </tr>\n",
              "    <tr>\n",
              "      <th>1</th>\n",
              "      <td>0.0</td>\n",
              "      <td>91.47</td>\n",
              "      <td>0.0</td>\n",
              "      <td>57.0</td>\n",
              "      <td>0.0</td>\n",
              "      <td>0.0</td>\n",
              "      <td>0.0</td>\n",
              "      <td>0.00</td>\n",
              "      <td>1777.0</td>\n",
              "      <td>15.0</td>\n",
              "      <td>26.0</td>\n",
              "      <td>25.0</td>\n",
              "      <td>1484.0</td>\n",
              "      <td>0.0</td>\n",
              "      <td>0.0</td>\n",
              "      <td>5.0</td>\n",
              "      <td>0.0</td>\n",
              "      <td>0.6400</td>\n",
              "      <td>1445.0445</td>\n",
              "      <td>0.0</td>\n",
              "    </tr>\n",
              "    <tr>\n",
              "      <th>2</th>\n",
              "      <td>1.0</td>\n",
              "      <td>68.00</td>\n",
              "      <td>0.0</td>\n",
              "      <td>47.0</td>\n",
              "      <td>0.0</td>\n",
              "      <td>0.0</td>\n",
              "      <td>0.0</td>\n",
              "      <td>0.00</td>\n",
              "      <td>1318.0</td>\n",
              "      <td>2.0</td>\n",
              "      <td>50.0</td>\n",
              "      <td>47.0</td>\n",
              "      <td>1491.0</td>\n",
              "      <td>0.0</td>\n",
              "      <td>0.0</td>\n",
              "      <td>2.0</td>\n",
              "      <td>0.0</td>\n",
              "      <td>0.7755</td>\n",
              "      <td>161.8000</td>\n",
              "      <td>0.0</td>\n",
              "    </tr>\n",
              "    <tr>\n",
              "      <th>3</th>\n",
              "      <td>0.0</td>\n",
              "      <td>32.90</td>\n",
              "      <td>0.0</td>\n",
              "      <td>75.0</td>\n",
              "      <td>0.0</td>\n",
              "      <td>0.0</td>\n",
              "      <td>0.0</td>\n",
              "      <td>0.00</td>\n",
              "      <td>1436.0</td>\n",
              "      <td>15.0</td>\n",
              "      <td>31.0</td>\n",
              "      <td>30.0</td>\n",
              "      <td>1408.0</td>\n",
              "      <td>0.0</td>\n",
              "      <td>0.0</td>\n",
              "      <td>3.0</td>\n",
              "      <td>0.0</td>\n",
              "      <td>0.1667</td>\n",
              "      <td>202.7000</td>\n",
              "      <td>0.0</td>\n",
              "    </tr>\n",
              "    <tr>\n",
              "      <th>4</th>\n",
              "      <td>0.0</td>\n",
              "      <td>100.00</td>\n",
              "      <td>0.0</td>\n",
              "      <td>45.0</td>\n",
              "      <td>0.0</td>\n",
              "      <td>1.0</td>\n",
              "      <td>1.0</td>\n",
              "      <td>58.53</td>\n",
              "      <td>1424.0</td>\n",
              "      <td>13.0</td>\n",
              "      <td>97.0</td>\n",
              "      <td>95.0</td>\n",
              "      <td>1560.0</td>\n",
              "      <td>0.0</td>\n",
              "      <td>0.0</td>\n",
              "      <td>2.0</td>\n",
              "      <td>0.0</td>\n",
              "      <td>0.1875</td>\n",
              "      <td>49.7500</td>\n",
              "      <td>0.0</td>\n",
              "    </tr>\n",
              "  </tbody>\n",
              "</table>\n",
              "</div>"
            ],
            "text/plain": [
              "   assists  damageDealt  DBNOs  killPlace  killPoints  kills  killStreaks  \\\n",
              "0      0.0         0.00    0.0       60.0      1241.0    0.0          0.0   \n",
              "1      0.0        91.47    0.0       57.0         0.0    0.0          0.0   \n",
              "2      1.0        68.00    0.0       47.0         0.0    0.0          0.0   \n",
              "3      0.0        32.90    0.0       75.0         0.0    0.0          0.0   \n",
              "4      0.0       100.00    0.0       45.0         0.0    1.0          1.0   \n",
              "\n",
              "   longestKill  matchDuration  matchType  maxPlace  numGroups  rankPoints  \\\n",
              "0         0.00         1306.0       15.0      28.0       26.0        -1.0   \n",
              "1         0.00         1777.0       15.0      26.0       25.0      1484.0   \n",
              "2         0.00         1318.0        2.0      50.0       47.0      1491.0   \n",
              "3         0.00         1436.0       15.0      31.0       30.0      1408.0   \n",
              "4        58.53         1424.0       13.0      97.0       95.0      1560.0   \n",
              "\n",
              "   revives  vehicleDestroys  weaponsAcquired  winPoints  winPlacePerc  \\\n",
              "0      0.0              0.0              1.0     1466.0        0.4444   \n",
              "1      0.0              0.0              5.0        0.0        0.6400   \n",
              "2      0.0              0.0              2.0        0.0        0.7755   \n",
              "3      0.0              0.0              3.0        0.0        0.1667   \n",
              "4      0.0              0.0              2.0        0.0        0.1875   \n",
              "\n",
              "   totalDistance  health  \n",
              "0       244.8000     0.0  \n",
              "1      1445.0445     0.0  \n",
              "2       161.8000     0.0  \n",
              "3       202.7000     0.0  \n",
              "4        49.7500     0.0  "
            ]
          },
          "metadata": {
            "tags": []
          },
          "execution_count": 25
        }
      ]
    },
    {
      "metadata": {
        "id": "dPI2_CJeBPpI",
        "colab_type": "code",
        "colab": {}
      },
      "cell_type": "code",
      "source": [
        "y = train_data_mu['winPlacePerc']\n",
        "X = train_data_mu.drop(['winPlacePerc'], axis=1)\n",
        "train_X, val_X, train_y, val_y = train_test_split(X, y, test_size=0.2, random_state=1511)"
      ],
      "execution_count": 0,
      "outputs": []
    },
    {
      "metadata": {
        "id": "s-yMkOH3B1zM",
        "colab_type": "code",
        "colab": {}
      },
      "cell_type": "code",
      "source": [
        "clf = RandomForestRegressor(n_estimators=100, min_samples_leaf=2, min_samples_split=3, max_features=0.5 ,n_jobs=-1)\n",
        "t0 = time()\n",
        "clf.fit(train_X, train_y)\n",
        "print('Training time', round(time() - t0, 3), 's')\n",
        "pred = clf.predict(val_X)\n",
        "print('MAE validation', mean_absolute_error(val_y, pred))"
      ],
      "execution_count": 0,
      "outputs": []
    },
    {
      "metadata": {
        "id": "gva77igCQUmx",
        "colab_type": "code",
        "outputId": "307c4142-f1f8-49b0-f942-654312d710d6",
        "colab": {
          "base_uri": "https://localhost:8080/",
          "height": 224
        }
      },
      "cell_type": "code",
      "source": [
        "# Mean\n",
        "\n",
        "fill_NaN_test = Imputer(missing_values=np.nan, strategy='mean', axis=1)\n",
        "test_data_mu = pd.DataFrame(fill_NaN_test.fit_transform(test_data))\n",
        "test_data_mu.columns = test_data.columns\n",
        "test_data_mu.index = test_data.index\n",
        "test_data_mu.head()"
      ],
      "execution_count": 0,
      "outputs": [
        {
          "output_type": "execute_result",
          "data": {
            "text/html": [
              "<div>\n",
              "<style scoped>\n",
              "    .dataframe tbody tr th:only-of-type {\n",
              "        vertical-align: middle;\n",
              "    }\n",
              "\n",
              "    .dataframe tbody tr th {\n",
              "        vertical-align: top;\n",
              "    }\n",
              "\n",
              "    .dataframe thead th {\n",
              "        text-align: right;\n",
              "    }\n",
              "</style>\n",
              "<table border=\"1\" class=\"dataframe\">\n",
              "  <thead>\n",
              "    <tr style=\"text-align: right;\">\n",
              "      <th></th>\n",
              "      <th>assists</th>\n",
              "      <th>damageDealt</th>\n",
              "      <th>DBNOs</th>\n",
              "      <th>killPlace</th>\n",
              "      <th>killPoints</th>\n",
              "      <th>kills</th>\n",
              "      <th>killStreaks</th>\n",
              "      <th>longestKill</th>\n",
              "      <th>matchDuration</th>\n",
              "      <th>matchType</th>\n",
              "      <th>maxPlace</th>\n",
              "      <th>numGroups</th>\n",
              "      <th>rankPoints</th>\n",
              "      <th>revives</th>\n",
              "      <th>vehicleDestroys</th>\n",
              "      <th>weaponsAcquired</th>\n",
              "      <th>winPoints</th>\n",
              "      <th>totalDistance</th>\n",
              "      <th>health</th>\n",
              "    </tr>\n",
              "  </thead>\n",
              "  <tbody>\n",
              "    <tr>\n",
              "      <th>0</th>\n",
              "      <td>0.0</td>\n",
              "      <td>51.46</td>\n",
              "      <td>0.0</td>\n",
              "      <td>73.0</td>\n",
              "      <td>0.0</td>\n",
              "      <td>0.0</td>\n",
              "      <td>0.0</td>\n",
              "      <td>0.00</td>\n",
              "      <td>1884.0</td>\n",
              "      <td>15.0</td>\n",
              "      <td>28.0</td>\n",
              "      <td>28.0</td>\n",
              "      <td>1500.0</td>\n",
              "      <td>0.0</td>\n",
              "      <td>0.0</td>\n",
              "      <td>1.0</td>\n",
              "      <td>0.0</td>\n",
              "      <td>588.0</td>\n",
              "      <td>0.0</td>\n",
              "    </tr>\n",
              "    <tr>\n",
              "      <th>1</th>\n",
              "      <td>0.0</td>\n",
              "      <td>179.10</td>\n",
              "      <td>0.0</td>\n",
              "      <td>11.0</td>\n",
              "      <td>0.0</td>\n",
              "      <td>2.0</td>\n",
              "      <td>1.0</td>\n",
              "      <td>361.90</td>\n",
              "      <td>1811.0</td>\n",
              "      <td>3.0</td>\n",
              "      <td>48.0</td>\n",
              "      <td>47.0</td>\n",
              "      <td>1503.0</td>\n",
              "      <td>2.0</td>\n",
              "      <td>0.0</td>\n",
              "      <td>6.0</td>\n",
              "      <td>0.0</td>\n",
              "      <td>6686.0</td>\n",
              "      <td>6.0</td>\n",
              "    </tr>\n",
              "    <tr>\n",
              "      <th>2</th>\n",
              "      <td>1.0</td>\n",
              "      <td>23.40</td>\n",
              "      <td>0.0</td>\n",
              "      <td>49.0</td>\n",
              "      <td>0.0</td>\n",
              "      <td>0.0</td>\n",
              "      <td>0.0</td>\n",
              "      <td>0.00</td>\n",
              "      <td>1793.0</td>\n",
              "      <td>15.0</td>\n",
              "      <td>28.0</td>\n",
              "      <td>27.0</td>\n",
              "      <td>1565.0</td>\n",
              "      <td>0.0</td>\n",
              "      <td>0.0</td>\n",
              "      <td>4.0</td>\n",
              "      <td>0.0</td>\n",
              "      <td>787.8</td>\n",
              "      <td>4.0</td>\n",
              "    </tr>\n",
              "    <tr>\n",
              "      <th>3</th>\n",
              "      <td>0.0</td>\n",
              "      <td>65.52</td>\n",
              "      <td>0.0</td>\n",
              "      <td>54.0</td>\n",
              "      <td>0.0</td>\n",
              "      <td>0.0</td>\n",
              "      <td>0.0</td>\n",
              "      <td>0.00</td>\n",
              "      <td>1834.0</td>\n",
              "      <td>3.0</td>\n",
              "      <td>45.0</td>\n",
              "      <td>44.0</td>\n",
              "      <td>1465.0</td>\n",
              "      <td>0.0</td>\n",
              "      <td>0.0</td>\n",
              "      <td>3.0</td>\n",
              "      <td>0.0</td>\n",
              "      <td>1812.0</td>\n",
              "      <td>0.0</td>\n",
              "    </tr>\n",
              "    <tr>\n",
              "      <th>4</th>\n",
              "      <td>0.0</td>\n",
              "      <td>330.20</td>\n",
              "      <td>1.0</td>\n",
              "      <td>7.0</td>\n",
              "      <td>0.0</td>\n",
              "      <td>5.0</td>\n",
              "      <td>1.0</td>\n",
              "      <td>60.06</td>\n",
              "      <td>1326.0</td>\n",
              "      <td>15.0</td>\n",
              "      <td>28.0</td>\n",
              "      <td>27.0</td>\n",
              "      <td>1480.0</td>\n",
              "      <td>1.0</td>\n",
              "      <td>0.0</td>\n",
              "      <td>4.0</td>\n",
              "      <td>0.0</td>\n",
              "      <td>2963.0</td>\n",
              "      <td>5.0</td>\n",
              "    </tr>\n",
              "  </tbody>\n",
              "</table>\n",
              "</div>"
            ],
            "text/plain": [
              "   assists  damageDealt  DBNOs  killPlace  killPoints  kills  killStreaks  \\\n",
              "0      0.0        51.46    0.0       73.0         0.0    0.0          0.0   \n",
              "1      0.0       179.10    0.0       11.0         0.0    2.0          1.0   \n",
              "2      1.0        23.40    0.0       49.0         0.0    0.0          0.0   \n",
              "3      0.0        65.52    0.0       54.0         0.0    0.0          0.0   \n",
              "4      0.0       330.20    1.0        7.0         0.0    5.0          1.0   \n",
              "\n",
              "   longestKill  matchDuration  matchType  maxPlace  numGroups  rankPoints  \\\n",
              "0         0.00         1884.0       15.0      28.0       28.0      1500.0   \n",
              "1       361.90         1811.0        3.0      48.0       47.0      1503.0   \n",
              "2         0.00         1793.0       15.0      28.0       27.0      1565.0   \n",
              "3         0.00         1834.0        3.0      45.0       44.0      1465.0   \n",
              "4        60.06         1326.0       15.0      28.0       27.0      1480.0   \n",
              "\n",
              "   revives  vehicleDestroys  weaponsAcquired  winPoints  totalDistance  health  \n",
              "0      0.0              0.0              1.0        0.0          588.0     0.0  \n",
              "1      2.0              0.0              6.0        0.0         6686.0     6.0  \n",
              "2      0.0              0.0              4.0        0.0          787.8     4.0  \n",
              "3      0.0              0.0              3.0        0.0         1812.0     0.0  \n",
              "4      1.0              0.0              4.0        0.0         2963.0     5.0  "
            ]
          },
          "metadata": {
            "tags": []
          },
          "execution_count": 66
        }
      ]
    },
    {
      "metadata": {
        "id": "PblpP7cEe5kN",
        "colab_type": "code",
        "outputId": "8cc6dc0e-1c51-4b13-cdc2-3ed7ee97533b",
        "colab": {
          "base_uri": "https://localhost:8080/",
          "height": 163
        }
      },
      "cell_type": "code",
      "source": [
        "pred1 = clf.predict(test_data_mu)"
      ],
      "execution_count": 0,
      "outputs": [
        {
          "output_type": "error",
          "ename": "NameError",
          "evalue": "ignored",
          "traceback": [
            "\u001b[0;31m---------------------------------------------------------------------------\u001b[0m",
            "\u001b[0;31mNameError\u001b[0m                                 Traceback (most recent call last)",
            "\u001b[0;32m<ipython-input-1-a1a7eaf67e27>\u001b[0m in \u001b[0;36m<module>\u001b[0;34m()\u001b[0m\n\u001b[0;32m----> 1\u001b[0;31m \u001b[0mpred1\u001b[0m \u001b[0;34m=\u001b[0m \u001b[0mclf\u001b[0m\u001b[0;34m.\u001b[0m\u001b[0mpredict\u001b[0m\u001b[0;34m(\u001b[0m\u001b[0mtest_data_mu\u001b[0m\u001b[0;34m)\u001b[0m\u001b[0;34m\u001b[0m\u001b[0;34m\u001b[0m\u001b[0m\n\u001b[0m",
            "\u001b[0;31mNameError\u001b[0m: name 'clf' is not defined"
          ]
        }
      ]
    },
    {
      "metadata": {
        "id": "KX5SO6QfAn3A",
        "colab_type": "code",
        "colab": {}
      },
      "cell_type": "code",
      "source": [
        ""
      ],
      "execution_count": 0,
      "outputs": []
    }
  ]
}